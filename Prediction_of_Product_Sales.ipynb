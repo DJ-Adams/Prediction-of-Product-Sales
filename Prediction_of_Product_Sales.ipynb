{
  "nbformat": 4,
  "nbformat_minor": 0,
  "metadata": {
    "colab": {
      "provenance": [],
      "authorship_tag": "ABX9TyOLZnjPECyZAtaviqJLDOcZ",
      "include_colab_link": true
    },
    "kernelspec": {
      "name": "python3",
      "display_name": "Python 3"
    },
    "language_info": {
      "name": "python"
    }
  },
  "cells": [
    {
      "cell_type": "markdown",
      "metadata": {
        "id": "view-in-github",
        "colab_type": "text"
      },
      "source": [
        "<a href=\"https://colab.research.google.com/github/DJ-Adams/Prediction-of-Product-Sales/blob/main/Prediction_of_Product_Sales.ipynb\" target=\"_parent\"><img src=\"https://colab.research.google.com/assets/colab-badge.svg\" alt=\"Open In Colab\"/></a>"
      ]
    },
    {
      "cell_type": "code",
      "execution_count": 1,
      "metadata": {
        "id": "hAgZQLLDR5Ve"
      },
      "outputs": [],
      "source": [
        "# Prediction of Product Sales"
      ]
    },
    {
      "cell_type": "markdown",
      "source": [
        "# Prediction of Product Sales"
      ],
      "metadata": {
        "id": "_BTb-A4pTA0l"
      }
    },
    {
      "cell_type": "markdown",
      "source": [
        "- ###### Author: Darlene Adams"
      ],
      "metadata": {
        "id": "ByJuqUZpTW91"
      }
    },
    {
      "cell_type": "markdown",
      "source": [
        "## Project Overview"
      ],
      "metadata": {
        "id": "bazkQNVwUMH-"
      }
    },
    {
      "cell_type": "markdown",
      "source": [],
      "metadata": {
        "id": "YLCKeqLDUTrN"
      }
    },
    {
      "cell_type": "markdown",
      "source": [
        "## Load and Inspect Data"
      ],
      "metadata": {
        "id": "QDLin-JRUbzo"
      }
    },
    {
      "cell_type": "code",
      "source": [],
      "metadata": {
        "id": "LV70mzqwUlL_"
      },
      "execution_count": null,
      "outputs": []
    },
    {
      "cell_type": "markdown",
      "source": [
        "## Clean Data"
      ],
      "metadata": {
        "id": "ekf03X3AUl2u"
      }
    },
    {
      "cell_type": "code",
      "source": [],
      "metadata": {
        "id": "KG_gbszeUuzV"
      },
      "execution_count": null,
      "outputs": []
    },
    {
      "cell_type": "markdown",
      "source": [
        "## Exploratory Data Analysis\""
      ],
      "metadata": {
        "id": "bx3vL4DvUvj7"
      }
    },
    {
      "cell_type": "code",
      "source": [],
      "metadata": {
        "id": "cRPKwmggU1MS"
      },
      "execution_count": null,
      "outputs": []
    },
    {
      "cell_type": "markdown",
      "source": [
        "## Feature Inspection"
      ],
      "metadata": {
        "id": "V4lDPiwkU1hL"
      }
    },
    {
      "cell_type": "code",
      "source": [],
      "metadata": {
        "id": "g3NIGAybU_Ql"
      },
      "execution_count": null,
      "outputs": []
    }
  ]
}